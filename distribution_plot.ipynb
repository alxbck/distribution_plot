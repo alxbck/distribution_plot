{
 "cells": [
  {
   "cell_type": "markdown",
   "id": "6fd1e250-3a2a-46b9-8609-828cfc8a75b5",
   "metadata": {},
   "source": [
    "# Distribution of annual returns for major indices"
   ]
  },
  {
   "cell_type": "markdown",
   "id": "3f0e94b8-5f9a-41de-a257-00c18dd4be8f",
   "metadata": {},
   "source": [
    "Different tickers are available:\n",
    "- S&P 500 index with dividends reinvested, data available since 1988 (_^SP500TR_)\n",
    "- S&P 500 price index (without dividends), data available since 1927 (_^GSPC)_\n",
    "- Nasdaq 100 index, data available since 1985 (_^NDX_)"
   ]
  },
  {
   "cell_type": "code",
   "execution_count": 1,
   "id": "ca36a79c-f142-4669-89e0-810f0122559f",
   "metadata": {},
   "outputs": [],
   "source": [
    "import yfinance as yf\n",
    "import pandas as pd\n",
    "import numpy as np\n",
    "import matplotlib.pyplot as plt\n",
    "import datetime\n",
    "import ipywidgets as widgets\n",
    "from ipywidgets import interact"
   ]
  },
  {
   "cell_type": "code",
   "execution_count": null,
   "id": "01838892-5207-4b03-b1a6-fcdfb26ca0ce",
   "metadata": {},
   "outputs": [],
   "source": [
    "# Fetch historical data for the financial indices\n",
    "# TODO: add support for Shiller TR monthly data since 1871 (!), see http://www.econ.yale.edu/~shiller/data.htm\n",
    "ticker = '^SP500TR'\n",
    "title = 'S&P 500 Annualized Total Returns'\n",
    "df = yf.download(ticker)\n",
    "df.columns = df.columns.get_level_values(0) # Drop second level of indexing\n",
    "df = df['Close']"
   ]
  },
  {
   "cell_type": "code",
   "execution_count": 3,
   "id": "a8ed9496-3b8a-4b53-8a95-f6f653afe708",
   "metadata": {},
   "outputs": [],
   "source": [
    "data_min_year, data_max_year = df.index.year.min(), df.index.year.max()"
   ]
  },
  {
   "cell_type": "code",
   "execution_count": 4,
   "id": "205b69a9-fd4b-4e35-9c27-c43e82095f2d",
   "metadata": {},
   "outputs": [],
   "source": [
    "def compute_future_returns(series, period_years=1.5, dates_per_year=256):\n",
    "    delta = int(period_years * dates_per_year)\n",
    "    \n",
    "    # Calculate future returns over the next 1.5 years\n",
    "    future_returns = series.shift(-delta) / series - 1\n",
    "    future_returns = (future_returns + 1) ** (1/period_years) - 1\n",
    "    \n",
    "    # Drop NaN values (those dates for which we can't calculate future returns)\n",
    "    future_returns = future_returns.dropna()\n",
    "    return future_returns"
   ]
  },
  {
   "cell_type": "code",
   "execution_count": 5,
   "id": "525a47eb-2b4f-483d-ae48-7462d9da1f3e",
   "metadata": {},
   "outputs": [],
   "source": [
    "def bucketize(axis_max):\n",
    "    buckets = [0.15, 0.3, 0.5]\n",
    "    for b in buckets:\n",
    "        if axis_max < b:\n",
    "            return b\n",
    "    return axis_max"
   ]
  },
  {
   "cell_type": "code",
   "execution_count": 12,
   "id": "8a7d2813-c219-4118-b591-43e2973e77ba",
   "metadata": {},
   "outputs": [
    {
     "data": {
      "application/vnd.jupyter.widget-view+json": {
       "model_id": "f481a6e9825542b0962184ebfd905864",
       "version_major": 2,
       "version_minor": 0
      },
      "text/plain": [
       "interactive(children=(IntSlider(value=10, description='Period years', max=36, min=1), IntRangeSlider(value=(19…"
      ]
     },
     "metadata": {},
     "output_type": "display_data"
    }
   ],
   "source": [
    "@interact(\n",
    "    period_years=widgets.IntSlider(value=10, min=1, max=min(50, data_max_year - data_min_year), description='Period years'),\n",
    "    year_interval=widgets.IntRangeSlider(value=[1950, data_max_year], min=data_min_year, max=data_max_year, description='Year interval')\n",
    ")\n",
    "def plot_returns_distribution(year_interval, period_years):\n",
    "    start_year, end_year = year_interval\n",
    "    if end_year - start_year < period_years:\n",
    "        display('Please select a year interval larger than period_years')\n",
    "        return\n",
    "    start_date = f'{start_year}-01-01'\n",
    "    end_date = f'{end_year+1}-01-01'\n",
    "\n",
    "    data = df.loc[start_date:].loc[:end_date]\n",
    "    returns = compute_future_returns(data, period_years)\n",
    "\n",
    "    # Plot results\n",
    "    plt.figure(figsize=(10, 5))\n",
    "    plt.hist(returns, bins=50, edgecolor='k', alpha=0.7)\n",
    "    plt.title(f'Distribution of {title} over {period_years} Years')\n",
    "    plt.xlabel('Annual Return')\n",
    "    plt.ylabel('Frequency')\n",
    "    plt.grid(True)\n",
    "    ax = plt.gca()\n",
    "    ax.xaxis.set_major_formatter(plt.FuncFormatter(lambda x, _: f'{x*100:.0f}%'))\n",
    "    axis_max = max(-min(returns), max(returns))\n",
    "    axis_max = bucketize(axis_max)\n",
    "    plt.xlim(-axis_max, axis_max)\n",
    "    plt.show()\n",
    "    \n",
    "    display(f'Median: {returns.median()*100:.1f}%')\n",
    "    display(f'Nb of datapoints: {returns.shape[0]}')"
   ]
  },
  {
   "cell_type": "markdown",
   "id": "dd78a625-1ce7-444a-82f5-1e9f380c69a1",
   "metadata": {},
   "source": [
    "_Data from Yahoo Finance_"
   ]
  },
  {
   "cell_type": "code",
   "execution_count": null,
   "id": "9f18500c-f647-40cb-96d6-9af2b2f2e8c5",
   "metadata": {},
   "outputs": [],
   "source": []
  }
 ],
 "metadata": {
  "kernelspec": {
   "display_name": "Python 3 (ipykernel)",
   "language": "python",
   "name": "python3"
  },
  "language_info": {
   "codemirror_mode": {
    "name": "ipython",
    "version": 3
   },
   "file_extension": ".py",
   "mimetype": "text/x-python",
   "name": "python",
   "nbconvert_exporter": "python",
   "pygments_lexer": "ipython3",
   "version": "3.9.12"
  }
 },
 "nbformat": 4,
 "nbformat_minor": 5
}

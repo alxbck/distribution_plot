{
 "cells": [
  {
   "cell_type": "markdown",
   "id": "6fd1e250-3a2a-46b9-8609-828cfc8a75b5",
   "metadata": {},
   "source": [
    "# Distribution of annual returns for major indices"
   ]
  },
  {
   "cell_type": "markdown",
   "id": "3f0e94b8-5f9a-41de-a257-00c18dd4be8f",
   "metadata": {},
   "source": [
    "Different tickers are available:\n",
    "- S&P 500 Total Returns: S&P 500 index with dividends reinvested _(ticker ^SP500TR)_\n",
    "- S&P 500 Total Returns in real terms: the same index net of inflation"
   ]
  },
  {
   "cell_type": "code",
   "execution_count": null,
   "id": "05c7cb19-c9d4-465c-8780-649b23b02ffe",
   "metadata": {},
   "outputs": [],
   "source": [
    "import yfinance as yf\n",
    "import pandas as pd\n",
    "import numpy as np\n",
    "import matplotlib.pyplot as plt\n",
    "import datetime\n",
    "import ipywidgets as widgets\n",
    "from ipywidgets import interact, Dropdown"
   ]
  },
  {
   "cell_type": "code",
   "execution_count": null,
   "id": "4c8cd628-3bc6-4ecb-ab80-99bae88838cb",
   "metadata": {},
   "outputs": [],
   "source": [
    "def load_data_csv(file_path):\n",
    "    # Assume the first column contains the date and the 2nd the data\n",
    "    df = pd.read_csv(file_path)#.set_index('Date')\n",
    "    col_date = df.columns[0]\n",
    "    df[col_date] = pd.to_datetime(df[col_date])\n",
    "    df.set_index(col_date, inplace=True)\n",
    "\n",
    "    col_data = df.columns[0]\n",
    "    df = df[col_data]\n",
    "    return df"
   ]
  },
  {
   "cell_type": "code",
   "execution_count": null,
   "id": "b3567ad1-20b1-4ab6-bfc1-e5f3d01edaa5",
   "metadata": {},
   "outputs": [],
   "source": [
    "df_indexes = pd.read_csv('index_config.csv').set_index('index_id')\n",
    "indexes = df_indexes.to_dict(orient='index')\n",
    "\n",
    "for key, _ in indexes.items():\n",
    "    series = load_data_csv('data/' + indexes[key]['code'])\n",
    "    indexes[key]['data'] = series"
   ]
  },
  {
   "cell_type": "code",
   "execution_count": null,
   "id": "cdc66eb3-ee73-4604-bfce-27e1551c075d",
   "metadata": {},
   "outputs": [],
   "source": [
    "data_min_year = min(min(indexes[key]['data'].index.year) for index_details in indexes.keys())\n",
    "data_max_year = max(max(indexes[key]['data'].index.year) for index_details in indexes.keys())"
   ]
  },
  {
   "cell_type": "code",
   "execution_count": null,
   "id": "0c72d089-5da8-4d01-8588-1c3c253e2f95",
   "metadata": {},
   "outputs": [],
   "source": [
    "def compute_future_returns(series, period_years=1.5, dates_per_year=256):\n",
    "    delta = int(period_years * dates_per_year)\n",
    "    \n",
    "    # Calculate future returns over the next 1.5 years\n",
    "    future_returns = series.shift(-delta) / series - 1\n",
    "    future_returns = (future_returns + 1) ** (1/period_years) - 1\n",
    "    \n",
    "    # Drop NaN values (those dates for which we can't calculate future returns)\n",
    "    future_returns = future_returns.dropna()\n",
    "    return future_returns"
   ]
  },
  {
   "cell_type": "code",
   "execution_count": null,
   "id": "296fa450-4b8c-4271-859e-7a067b18edb1",
   "metadata": {},
   "outputs": [],
   "source": [
    "def bucketize(axis_max):\n",
    "    buckets = [0.2, 0.3, 0.5]\n",
    "    axis_max = axis_max + 0.1\n",
    "    for b in buckets:\n",
    "        if axis_max < b:\n",
    "            return b\n",
    "    return axis_max"
   ]
  },
  {
   "cell_type": "code",
   "execution_count": null,
   "id": "42734dd6-fe1d-4537-be9b-7e3bc93be905",
   "metadata": {},
   "outputs": [],
   "source": [
    "dropdown_options = [(indexes[index]['index_name'], index) for index, _ in indexes.items()]"
   ]
  },
  {
   "cell_type": "code",
   "execution_count": null,
   "id": "337f1f2a-bb96-4200-9b93-4f3829afc7ab",
   "metadata": {},
   "outputs": [],
   "source": [
    "@interact(\n",
    "    index=Dropdown(options=dropdown_options, description='Index'),\n",
    "    period_years=widgets.IntSlider(value=10, min=1, max=min(50, data_max_year - data_min_year), description='Holding Years'),\n",
    "    year_interval=widgets.IntRangeSlider(value=[1950, data_max_year], min=data_min_year, max=data_max_year, description='Date interval')\n",
    ")\n",
    "def plot_returns_distribution(index, year_interval, period_years):\n",
    "    start_year, end_year = year_interval\n",
    "    if end_year - start_year < period_years:\n",
    "        display('Please select a year interval larger than the holding time horizon')\n",
    "        return\n",
    "    start_date = f'{start_year}-01-01'\n",
    "    end_date = f'{end_year+1}-01-01'\n",
    "\n",
    "    series = indexes[index]['data']\n",
    "    series = series.loc[start_date:].loc[:end_date]\n",
    "    returns = compute_future_returns(series, period_years, indexes[index]['points_per_year']) * 100\n",
    "\n",
    "    # Plot results\n",
    "    plt.figure(figsize=(10, 5))\n",
    "    bins = np.arange(int(returns.min()), int(returns.max() + 1), 1)\n",
    "    counts, _, _ = plt.hist(returns, bins=bins, edgecolor='k', alpha=0.7)\n",
    "\n",
    "    title = indexes[index]['title']\n",
    "    plt.title(f'Distribution of {title} over {period_years} Years')\n",
    "    plt.xlabel('Annual Return')\n",
    "    ax = plt.gca()\n",
    "    ax.xaxis.set_major_formatter(plt.FuncFormatter(lambda x, _: f'{x:.0f}%'))\n",
    "    x_axis_max = max(-min(returns), max(returns))\n",
    "    x_axis_max = bucketize(x_axis_max/100) * 100\n",
    "    plt.xlim(-x_axis_max, x_axis_max)\n",
    "    y_axis_max = max(100, counts.max() + 5)\n",
    "    plt.ylim(0, y_axis_max)\n",
    "    plt.show()\n",
    "    \n",
    "    display(f'Median: {returns.median():.1f}%')\n",
    "    display(f'Nb of datapoints: {returns.shape[0]}')"
   ]
  },
  {
   "cell_type": "markdown",
   "id": "fccb5af4-a8c6-4165-b776-5695d077aabb",
   "metadata": {},
   "source": [
    "_Data from Schiller (http://www.econ.yale.edu/~shiller/data.htm). Source available on [Github](https://github.com/alxbck/distribution_plot/)._"
   ]
  }
 ],
 "metadata": {
  "kernelspec": {
   "display_name": "Python 3 (ipykernel)",
   "language": "python",
   "name": "python3"
  },
  "language_info": {
   "codemirror_mode": {
    "name": "ipython",
    "version": 3
   },
   "file_extension": ".py",
   "mimetype": "text/x-python",
   "name": "python",
   "nbconvert_exporter": "python",
   "pygments_lexer": "ipython3",
   "version": "3.12.8"
  }
 },
 "nbformat": 4,
 "nbformat_minor": 5
}
